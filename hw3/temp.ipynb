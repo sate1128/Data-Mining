{
 "cells": [
  {
   "cell_type": "code",
   "execution_count": 10,
   "metadata": {},
   "outputs": [],
   "source": [
    "import pandas as pd\n",
    "import numpy as np\n",
    "\n",
    "df = pd.DataFrame(pd.read_csv('201701_Taiwan.csv'))\n",
    "df = df[df['device_id']=='74DA3895E010']\n",
    "df2 = df.sort_values(by=['device_id','Date','Time'])\n",
    "#split data\n",
    "df_resample = df2.iloc[:,:8]#Data,Time,device_id,PM2.5,PM10,PM11,Temperature,Humidity\n",
    "df_location = df2.iloc[:,[2,8,9]].drop_duplicates()#device_id,lat,lon\n",
    "#datatime index\n",
    "\n",
    "df_resample=df_resample.set_index(pd.DatetimeIndex(pd.to_datetime(df_resample['Date'] + \" \" + df_resample['Time'])))\n",
    "machines=set(df_resample[\"device_id\"])\n",
    "#resample and split according to device_id\n",
    "device_dict={}\n",
    "for machine in machines:\n",
    "    df_tmp = df_resample[df_resample[\"device_id\"] == machine]\n",
    "    df_tmp = df_tmp.resample('15T').mean().fillna(method='pad')\n",
    "    df_tmp.insert(loc=0,column='device_id',value=machine)\n",
    "    df_tmp.insert(loc=0,column='Time',value=df_tmp.index.time)\n",
    "    df_tmp.insert(loc=0,column='Date',value=df_tmp.index.date)\n",
    "    tmp = df_location[df_location['device_id'] == machine]\n",
    "    df_tmp['lat']=tmp.iloc[0,1]\n",
    "    df_tmp['lon']=tmp.iloc[0,2]\n",
    "    device_dict[machine]=df_tmp\n",
    "df_result=pd.concat(device_dict,ignore_index=True)\n",
    "df_result = df_result.round({'PM2.5': 0,'PM10':0,'PM1':0,'Temperature':0,'Humidity': 0})\n",
    "#df_result\n",
    "df_result.to_csv('/Users/sate/Desktop/DM/hw3/201701.csv')"
   ]
  },
  {
   "cell_type": "code",
   "execution_count": null,
   "metadata": {},
   "outputs": [],
   "source": []
  }
 ],
 "metadata": {
  "kernelspec": {
   "display_name": "Python 3",
   "language": "python",
   "name": "python3"
  },
  "language_info": {
   "codemirror_mode": {
    "name": "ipython",
    "version": 3
   },
   "file_extension": ".py",
   "mimetype": "text/x-python",
   "name": "python",
   "nbconvert_exporter": "python",
   "pygments_lexer": "ipython3",
   "version": "3.6.2"
  }
 },
 "nbformat": 4,
 "nbformat_minor": 2
}
