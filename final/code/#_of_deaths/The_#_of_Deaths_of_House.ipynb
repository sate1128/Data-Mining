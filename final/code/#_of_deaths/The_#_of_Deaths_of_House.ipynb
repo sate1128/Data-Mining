{
 "cells": [
  {
   "cell_type": "code",
   "execution_count": 1,
   "metadata": {},
   "outputs": [],
   "source": [
    "import pandas as pd\n",
    "import numpy as np\n",
    "import matplotlib.pyplot as plt"
   ]
  },
  {
   "cell_type": "code",
   "execution_count": 2,
   "metadata": {},
   "outputs": [
    {
     "data": {
      "text/plain": [
       "'df = pd.read_csv(\"character-deaths.csv\",encoding = \"ISO-8859-1\")\\ndf.drop(df[pd.isna(df[\\'Death Year\\'])].index, inplace= True)\\ndf.to_csv(\"character-deaths_cut.csv\", index = False)'"
      ]
     },
     "execution_count": 2,
     "metadata": {},
     "output_type": "execute_result"
    }
   ],
   "source": [
    "'''df = pd.read_csv(\"character-deaths.csv\",encoding = \"ISO-8859-1\")\n",
    "df.drop(df[pd.isna(df['Death Year'])].index, inplace= True)\n",
    "df.to_csv(\"character-deaths_cut.csv\", index = False)'''"
   ]
  },
  {
   "cell_type": "code",
   "execution_count": 2,
   "metadata": {},
   "outputs": [],
   "source": [
    "df = pd.read_csv(\"deaths.csv\")\n",
    "df.sort_values(by = ['Book of Death', 'Death Chapter'], ascending = True , inplace = True)"
   ]
  },
  {
   "cell_type": "code",
   "execution_count": 3,
   "metadata": {},
   "outputs": [],
   "source": [
    "num_chapter = {1: 72, 2: 69, 3: 81, 4: 45, 5: 72}\n",
    "family = pd.Series(df.groupby('Allegiances').size().index)"
   ]
  },
  {
   "cell_type": "code",
   "execution_count": 4,
   "metadata": {},
   "outputs": [],
   "source": [
    "house = {}\n",
    "book = []\n",
    "cnt = 0\n",
    "for f in family:\n",
    "    house[f] = cnt\n",
    "    cnt+=1\n",
    "curr_book = 1\n",
    "curr_chap = 10\n",
    "output = []\n",
    "chap = [0 for x in range (12)]\n",
    "for index, row in df.iterrows():\n",
    "    if row['Death Chapter'] < curr_chap and row['Book of Death'] == curr_book:\n",
    "        chap[house[row['Allegiances']]] += 1\n",
    "        continue\n",
    "    while row['Death Chapter'] > curr_chap or  row['Book of Death'] > curr_book:\n",
    "        output.append(chap)\n",
    "        if curr_chap > num_chapter[curr_book]:\n",
    "            book.append(pd.DataFrame(output, columns=family))\n",
    "            curr_chap = 10\n",
    "            curr_book += 1\n",
    "            output = []\n",
    "        else:\n",
    "            curr_chap += 10\n",
    "        chap = [0 for x in range (12)]\n",
    "    chap[house[row['Allegiances']]] += 1\n",
    "output.append(chap)\n",
    "book.append(pd.DataFrame(output, columns=family))"
   ]
  },
  {
   "cell_type": "code",
   "execution_count": 5,
   "metadata": {},
   "outputs": [],
   "source": [
    "for i in range(5):\n",
    "    book[i]['Book'] = i+1\n",
    "    book[i]['Chapter'] =list(range(10, num_chapter[i+1]+10, 10))\n",
    "    book[i].set_index(['Book','Chapter'],inplace = True)"
   ]
  },
  {
   "cell_type": "code",
   "execution_count": 57,
   "metadata": {},
   "outputs": [],
   "source": [
    "\n",
    "#def generate_color():\n",
    "    #color = '#{:02x}{:02x}{:02x}'.format(*map(lambda x: random.randint(128, 255), range(3)))\n",
    "#    return (\"#%06x\" % np.random.randint(0, 0xFFFFFF))\n",
    "colors = ['red','blue','pink','brown','lime', 'cyan', 'grey','green', 'yellow', 'fuchsia', 'tan', 'navy']\n",
    "\n",
    "#for i in range(12):\n",
    "#    colors.append(generate_color())"
   ]
  },
  {
   "cell_type": "code",
   "execution_count": 63,
   "metadata": {},
   "outputs": [
    {
     "data": {
      "image/png": "[encoded data removed]",
      "text/plain": [
       "<matplotlib.figure.Figure at 0x10cc46390>"
      ]
     },
     "metadata": {},
     "output_type": "display_data"
    }
   ],
   "source": [
    "df_all = pd.concat([book[0],book[1],book[2],book[3],book[4]])\n",
    "ax = df_all.plot(kind = 'bar', stacked='True',color = colors,figsize = (14,6))\n",
    "handles, labels = ax.get_legend_handles_labels()\n",
    "ax.legend(reversed(handles), reversed(labels),bbox_to_anchor=(1, 1), shadow=True)\n",
    "ax.set_ylabel('# of deaths')\n",
    "plt.yticks(list(range(0,25,1)))\n",
    "plt.savefig('deaths.png',dpi = 300, bbox_inches='tight')\n",
    "plt.show()"
   ]
  },
  {
   "cell_type": "code",
   "execution_count": 8,
   "metadata": {},
   "outputs": [
    {
     "data": {
      "text/plain": [
       "'for i in range(5):\\n    for col in book[i].keys():\\n        if book[i][col].sum() == 0:\\n            del book[i][col]'"
      ]
     },
     "execution_count": 8,
     "metadata": {},
     "output_type": "execute_result"
    }
   ],
   "source": [
    "'''for i in range(5):\n",
    "    for col in book[i].keys():\n",
    "        if book[i][col].sum() == 0:\n",
    "            del book[i][col]'''"
   ]
  },
  {
   "cell_type": "code",
   "execution_count": 105,
   "metadata": {},
   "outputs": [
    {
     "ename": "AttributeError",
     "evalue": "'AxesSubplot' object has no attribute 'tight_layout'",
     "output_type": "error",
     "traceback": [
      "\u001b[0;31m---------------------------------------------------------------------------\u001b[0m",
      "\u001b[0;31mAttributeError\u001b[0m                            Traceback (most recent call last)",
      "\u001b[0;32m<ipython-input-105-a5efc8d277e4>\u001b[0m in \u001b[0;36m<module>\u001b[0;34m()\u001b[0m\n\u001b[1;32m      8\u001b[0m     \u001b[0maxes\u001b[0m\u001b[0;34m[\u001b[0m\u001b[0mi\u001b[0m\u001b[0;34m]\u001b[0m\u001b[0;34m.\u001b[0m\u001b[0mset_ylabel\u001b[0m\u001b[0;34m(\u001b[0m\u001b[0;34m'# of deaths'\u001b[0m\u001b[0;34m)\u001b[0m\u001b[0;34m\u001b[0m\u001b[0m\n\u001b[1;32m      9\u001b[0m     \u001b[0maxes\u001b[0m\u001b[0;34m[\u001b[0m\u001b[0mi\u001b[0m\u001b[0;34m]\u001b[0m\u001b[0;34m.\u001b[0m\u001b[0mset_title\u001b[0m\u001b[0;34m(\u001b[0m\u001b[0;34m'Book%d'\u001b[0m \u001b[0;34m%\u001b[0m \u001b[0;34m(\u001b[0m\u001b[0mi\u001b[0m\u001b[0;34m+\u001b[0m\u001b[0;36m1\u001b[0m\u001b[0;34m)\u001b[0m\u001b[0;34m)\u001b[0m\u001b[0;34m\u001b[0m\u001b[0m\n\u001b[0;32m---> 10\u001b[0;31m     \u001b[0maxes\u001b[0m\u001b[0;34m[\u001b[0m\u001b[0mi\u001b[0m\u001b[0;34m]\u001b[0m\u001b[0;34m.\u001b[0m\u001b[0mtight_layout\u001b[0m\u001b[0;34m(\u001b[0m\u001b[0;34m)\u001b[0m\u001b[0;34m\u001b[0m\u001b[0m\n\u001b[0m\u001b[1;32m     11\u001b[0m \u001b[0;31m#plt.savefig('deaths.png',dpi = 300, bbox_inches='tight')\u001b[0m\u001b[0;34m\u001b[0m\u001b[0;34m\u001b[0m\u001b[0m\n\u001b[1;32m     12\u001b[0m \u001b[0;31m#plt.tight_layout()\u001b[0m\u001b[0;34m\u001b[0m\u001b[0;34m\u001b[0m\u001b[0m\n",
      "\u001b[0;31mAttributeError\u001b[0m: 'AxesSubplot' object has no attribute 'tight_layout'"
     ]
    }
   ],
   "source": [
    "\"\"\"fig, axes = plt.subplots(5, 1, figsize = (8,26))\n",
    "\n",
    "for i in range(5):\n",
    "    book[i].plot(ax = axes[i], kind = 'bar', stacked='True',color = colors, align = 'center');\n",
    "    handles, labels = axes[i].get_legend_handles_labels()\n",
    "    axes[i].legend(reversed(handles), reversed(labels),bbox_to_anchor=(1, 1), shadow=True)\n",
    "    axes[i].set_xlabel('Chapter')\n",
    "    axes[i].set_ylabel('# of deaths')\n",
    "    axes[i].set_title('Book%d' % (i+1))\n",
    "    axes[i].tight_layout()\n",
    "#plt.savefig('deaths.png',dpi = 300, bbox_inches='tight')\n",
    "#plt.tight_layout()\n",
    "plt.show()\"\"\""
   ]
  },
  {
   "cell_type": "code",
   "execution_count": null,
   "metadata": {},
   "outputs": [],
   "source": []
  },
  {
   "cell_type": "code",
   "execution_count": null,
   "metadata": {},
   "outputs": [],
   "source": []
  }
 ],
 "metadata": {
  "kernelspec": {
   "display_name": "Python 3",
   "language": "python",
   "name": "python3"
  },
  "language_info": {
   "codemirror_mode": {
    "name": "ipython",
    "version": 3
   },
   "file_extension": ".py",
   "mimetype": "text/x-python",
   "name": "python",
   "nbconvert_exporter": "python",
   "pygments_lexer": "ipython3",
   "version": "3.6.3"
  }
 },
 "nbformat": 4,
 "nbformat_minor": 2
}
