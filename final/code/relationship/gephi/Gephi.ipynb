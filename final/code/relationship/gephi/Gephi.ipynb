{
 "cells": [
  {
   "cell_type": "code",
   "execution_count": 1,
   "metadata": {},
   "outputs": [],
   "source": [
    "import plotly\n",
    "from plotly.graph_objs import *\n",
    "\n"
   ]
  },
  {
   "cell_type": "code",
   "execution_count": 2,
   "metadata": {},
   "outputs": [],
   "source": [
    "import pandas as pd\n",
    "\n",
    "df = pd.read_csv(\"character_info.csv\")\n"
   ]
  },
  {
   "cell_type": "code",
   "execution_count": 3,
   "metadata": {},
   "outputs": [],
   "source": [
    "name = pd.read_csv(\"cht_to_name.csv\",encoding = \"ISO-8859-1\")"
   ]
  },
  {
   "cell_type": "code",
   "execution_count": 4,
   "metadata": {},
   "outputs": [],
   "source": [
    "cht_info = {}\n",
    "for i in range(1,44):\n",
    "    cht_info[\"cht_\"+str(i)] = []\n",
    "    \n",
    "for index,row in df.iterrows():\n",
    "    temp = [row[\"Book\"], row[\"Chapter\"], row[\"Chapter_Row\"]]\n",
    "    if temp not in cht_info[row[\"Character\"]] :\n",
    "        cht_info[row[\"Character\"]].append(temp)\n",
    "        "
   ]
  },
  {
   "cell_type": "code",
   "execution_count": 5,
   "metadata": {},
   "outputs": [],
   "source": [
    "temp1 = {}\n",
    "for i in range(1,44):\n",
    "    for j in range(i+1,44):\n",
    "        cnt=0\n",
    "        for l1 in cht_info[\"cht_\"+str(i)]:\n",
    "            for l2 in cht_info[\"cht_\"+str(j)]:\n",
    "                if l1[1] > l2[1] : \n",
    "                    continue\n",
    "                elif l1[0:2] == l2[0:2] :\n",
    "                    if abs(l1[2]-l2[2])<4:\n",
    "                        cnt = cnt+1\n",
    "                    elif (l2[2]-l1[2]) > 4:\n",
    "                        break\n",
    "                elif l2[0] > l1[0] :\n",
    "                    break\n",
    "        temp1[(i,j)] = cnt            "
   ]
  },
  {
   "cell_type": "code",
   "execution_count": 6,
   "metadata": {},
   "outputs": [],
   "source": [
    "appear = []\n",
    "for i in range(1,44):\n",
    "    appear.append(len(cht_info[\"cht_\"+str(i)]))"
   ]
  },
  {
   "cell_type": "code",
   "execution_count": 7,
   "metadata": {},
   "outputs": [],
   "source": [
    "_id = pd.Series(range(1,44))\n",
    "nodes = pd.DataFrame({'id': _id, 'Label': name[\"Character\"], 'Category': name[\"Family\"], 'Size': appear},\\\n",
    "                    columns = ['id', 'Label', 'Category', 'Size'])\n",
    "nodes.to_csv(\"nodes.csv\", index = False)\n",
    "edge_list = []\n",
    "for i,j in temp1:\n",
    "    edge_list.append([i, j, 'Undirected', temp1[(i,j)]])\n",
    "edges = pd.DataFrame(edge_list, columns = ['Source', 'Target', 'Type', 'Weight'])\n",
    "edges.to_csv(\"edges.csv\", index = False)"
   ]
  },
  {
   "cell_type": "code",
   "execution_count": null,
   "metadata": {},
   "outputs": [],
   "source": [
    "\n",
    "        "
   ]
  }
 ],
 "metadata": {
  "kernelspec": {
   "display_name": "Python 3",
   "language": "python",
   "name": "python3"
  },
  "language_info": {
   "codemirror_mode": {
    "name": "ipython",
    "version": 3
   },
   "file_extension": ".py",
   "mimetype": "text/x-python",
   "name": "python",
   "nbconvert_exporter": "python",
   "pygments_lexer": "ipython3",
   "version": "3.6.3"
  }
 },
 "nbformat": 4,
 "nbformat_minor": 2
}
