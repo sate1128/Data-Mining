{
 "cells": [
  {
   "cell_type": "code",
   "execution_count": 1,
   "metadata": {},
   "outputs": [],
   "source": [
    "import pandas as pd\n",
    "import numpy as np\n",
    "import datetime\n",
    "import matplotlib.pyplot as plt\n",
    "import re"
   ]
  },
  {
   "cell_type": "code",
   "execution_count": 2,
   "metadata": {},
   "outputs": [],
   "source": [
    "cht = []\n",
    "cht_pov = {}\n",
    "for i in range(1,44):\n",
    "    cht.append(\"cht_\"+str(i))\n",
    "    cht_pov[\"cht_\"+str(i)] = 0\n",
    "for i in range(1,11):\n",
    "    cht_pov[\"unknown\"+str(i)] = 0"
   ]
  },
  {
   "cell_type": "code",
   "execution_count": 3,
   "metadata": {},
   "outputs": [],
   "source": [
    "\n",
    "output = []\n",
    "for i in range(1,6):\n",
    "    page = 1\n",
    "    c_page = 1\n",
    "    c_row = 1\n",
    "    chapter = 0\n",
    "    \n",
    "    row = -1\n",
    "    c_row = 1\n",
    "    filename = \"00\" + str(i) + \"_done.txt\"\n",
    "    file = open(filename,encoding = \"ISO-8859-1\")\n",
    "    for line in file:\n",
    "        row += 1\n",
    "        c_row += 1\n",
    "        temp = re.split('\\W+',line.strip('\\n'))\n",
    "        for word in temp:\n",
    "            if word == \"Chapter\":\n",
    "                chapter = int(temp[1])\n",
    "                c_page = 1\n",
    "                c_row = -1\n",
    "            elif word == \"Page\":\n",
    "                page = int(temp[1])+1\n",
    "                row = -1\n",
    "                c_page += 1\n",
    "                c_row -=2\n",
    "            elif c_row == 0 and word in cht_pov.keys():\n",
    "                cht_pov[word] += 1\n",
    "            elif word in cht and c_row > 0:\n",
    "                output.append([word, i, chapter, c_page, c_row, page, row])\n",
    "            \n",
    "df = pd.DataFrame(output, columns=['Character', 'Book', 'Chapter', 'Chapter_Page', 'Chapter_Row', 'Page', 'Row'])\n",
    "df.to_csv('character_info.csv', index = False)\n",
    "    \n",
    "        "
   ]
  },
  {
   "cell_type": "code",
   "execution_count": 4,
   "metadata": {},
   "outputs": [],
   "source": [
    "cht_df = pd.read_csv(\"cht_to_name.csv\",encoding = \"ISO-8859-1\")\n",
    "unknown_df = pd.read_csv(\"unknown_to_name.csv\",encoding = \"ISO-8859-1\")\n",
    "\n"
   ]
  },
  {
   "cell_type": "code",
   "execution_count": 5,
   "metadata": {},
   "outputs": [],
   "source": [
    "\n",
    "s = pd.concat([cht_df['Character'],unknown_df['Character']], ignore_index = True)\n",
    "pov_df = pd.DataFrame({'Character' : s})\n",
    "pov_df['POV_cnt'] = cht_pov.values()\n",
    "pov_df['Main'] = ['Yes' if x < 43 else 'No' for x in range(53)]\n",
    "pov_df.drop(pov_df[pov_df['POV_cnt'] < 1].index, inplace = True)\n",
    "pov_df.to_csv('pov_cnt.csv', index = False)"
   ]
  },
  {
   "cell_type": "code",
   "execution_count": null,
   "metadata": {},
   "outputs": [],
   "source": []
  },
  {
   "cell_type": "code",
   "execution_count": null,
   "metadata": {},
   "outputs": [],
   "source": []
  },
  {
   "cell_type": "code",
   "execution_count": null,
   "metadata": {},
   "outputs": [],
   "source": []
  },
  {
   "cell_type": "code",
   "execution_count": null,
   "metadata": {},
   "outputs": [],
   "source": []
  },
  {
   "cell_type": "code",
   "execution_count": null,
   "metadata": {},
   "outputs": [],
   "source": []
  }
 ],
 "metadata": {
  "kernelspec": {
   "display_name": "Python 2",
   "language": "python",
   "name": "python2"
  },
  "language_info": {
   "codemirror_mode": {
    "name": "ipython",
    "version": 3
   },
   "file_extension": ".py",
   "mimetype": "text/x-python",
   "name": "python",
   "nbconvert_exporter": "python",
   "pygments_lexer": "ipython3",
   "version": "3.6.3"
  }
 },
 "nbformat": 4,
 "nbformat_minor": 2
}
